{
 "cells": [
  {
   "cell_type": "markdown",
   "id": "1df4915b",
   "metadata": {},
   "source": [
    "![zebrains_logo](../../images/logo-zebrains-dark.svg)\n",
    "## Кафедра «Интеллектуальных технологий в информационных системах»"
   ]
  },
  {
   "cell_type": "markdown",
   "id": "60f5fce6",
   "metadata": {},
   "source": [
    "# Лабораторная работа 2: DVC"
   ]
  },
  {
   "cell_type": "markdown",
   "id": "a426e5cd",
   "metadata": {},
   "source": [
    "В данной лабораторной работе вы научитесь пользоваться:\n",
    "* **DVC** (Data Version Control) - инструмент версионирования данных для Машинного обучения"
   ]
  },
  {
   "cell_type": "markdown",
   "id": "3e16f86e",
   "metadata": {},
   "source": [
    "# DVC\n",
    "<img src=\"../../images/dvc_logo.png\" alt=\"drawing\" width=\"200\"/>"
   ]
  },
  {
   "cell_type": "markdown",
   "id": "b12efcf1",
   "metadata": {},
   "source": [
    "Данная лабораторная предполагает самостоятельное изучение документации DVC. Она прекрасно написана и хорошо структурирована. Пожалуйста, не ленитесь ее читать. Если вы будете заниматься разработкой - когда-нибудь придется писать уже свою документацию.\n",
    "\n",
    "Если вы не уверены в своих знаниях английского и не понимаете некоторых слов - все равно читайте. Не переводите страницы целиком. Только те моменты, которые совсем не понятны. \n",
    "\n",
    "У вас обязательно все получится, если вы уделите этому достаточно времени."
   ]
  },
  {
   "cell_type": "markdown",
   "id": "a5ebf26a",
   "metadata": {},
   "source": [
    "Кратко о DVC: https://dvc.org/doc/user-guide/what-is-dvc\n",
    "\n",
    "DVC - это система контроля данных для проектов связанных с машинным обучением.\n",
    "Она хранит данные и код отдельно, в отличие от Git LFS. Это позволяет быстрее переключаться между различными конфигурациями данных и легче проводить эксперименты. \n",
    "\n",
    "<img src=\"../../images/dvc1.png\" alt=\"drawing\" width=\"600\"/>\n",
    "<img src=\"../../images/dvc2.png\" alt=\"drawing\" width=\"600\"/>\n",
    "\n",
    "Как видите, код и данные мы можем хранить отдельно. Даже на разных серверах. А когда захотим создать конфигурацию из кода+данных+параметров - мы просто указываем конкретные значения.  \n",
    "Это очень удобно для ML - проектов, где нам нужно запускать множество экспериментов с разными конфигурациями.\n",
    "\n",
    "\n",
    "А теперь сравните это со схемой Git LFS. Где код связан с данными. [тык](#git_lfs_cell)"
   ]
  },
  {
   "cell_type": "markdown",
   "id": "e7a67f63",
   "metadata": {},
   "source": [
    "С одной стороны кажется, что это очень удобно. Но это налагает дополнительные обязательства на разработчика. Придется следить, что бы разные версии данных и кода были совместимы. \n",
    "\n",
    "К счастью, в DVC предусмотрен этот момент. И вас предупредят, когда вы, например, закомитили файлы в Git, но забыли закомитить изменения в DVC. Этот механизм называется Хук (*hook*) - пользовательский скрипт, запускающийся, когда вы исполняете определенные команды. \n",
    "\n",
    "Хуки в DVC уже написаны за вас. Что бы понимать, как работают процессы под капотом - можете ознакомиться с этой страницей в документации: https://dvc.org/doc/command-reference/install"
   ]
  },
  {
   "cell_type": "markdown",
   "id": "7cd56ae1",
   "metadata": {},
   "source": [
    "## Пример проекта с DVC\n",
    "\n",
    "<details>\n",
    "  <summary>credit: mlrepa</summary>\n",
    "    Основано на репозитории https://github.com/mlrepa/dvc-1-get-started\n",
    "</details>\n",
    "\n",
    "Давайте cоздадим ML-проект с использованием DVC. Мы не будем вдаваться в реализацию самого приложения в рамках этой лабораторной.\n",
    "Главная задача - это понять, как работает DVC."
   ]
  },
  {
   "cell_type": "code",
   "execution_count": 1,
   "id": "0708cd3c",
   "metadata": {
    "collapsed": true,
    "jupyter": {
     "outputs_hidden": true
    }
   },
   "outputs": [
    {
     "name": "stdout",
     "output_type": "stream",
     "text": [
      "Requirement already satisfied: dvc in /home/admin/miniconda3/lib/python3.8/site-packages (from -r requirements.txt (line 1)) (2.6.4)\n",
      "Collecting panda\n",
      "  Downloading panda-0.3.1.tar.gz (5.8 kB)\n",
      "Collecting scikit-learn\n",
      "  Using cached scikit_learn-0.24.2-cp38-cp38-manylinux2010_x86_64.whl (24.9 MB)\n",
      "Requirement already satisfied: joblib in /home/admin/miniconda3/lib/python3.8/site-packages (from -r requirements.txt (line 4)) (1.0.1)\n",
      "Collecting jupyter\n",
      "  Downloading jupyter-1.0.0-py2.py3-none-any.whl (2.7 kB)\n",
      "Collecting jupyter_contrib_nbextensions\n",
      "  Downloading jupyter_contrib_nbextensions-0.5.1-py2.py3-none-any.whl (20.9 MB)\n",
      "\u001b[K     |████████████████████████████████| 20.9 MB 449 kB/s eta 0:00:01\n",
      "\u001b[?25hRequirement already satisfied: ipykernel in /home/admin/miniconda3/lib/python3.8/site-packages (from -r requirements.txt (line 7)) (6.0.3)\n",
      "Requirement already satisfied: pygtrie>=2.3.2 in /home/admin/miniconda3/lib/python3.8/site-packages (from dvc->-r requirements.txt (line 1)) (2.4.2)\n",
      "Requirement already satisfied: shtab<2,>=1.3.4 in /home/admin/miniconda3/lib/python3.8/site-packages (from dvc->-r requirements.txt (line 1)) (1.3.9)\n",
      "Requirement already satisfied: toml>=0.10.1 in /home/admin/miniconda3/lib/python3.8/site-packages (from dvc->-r requirements.txt (line 1)) (0.10.2)\n",
      "Requirement already satisfied: fsspec>=2021.7.0 in /home/admin/miniconda3/lib/python3.8/site-packages (from dvc->-r requirements.txt (line 1)) (2021.7.0)\n",
      "Requirement already satisfied: dictdiffer>=0.8.1 in /home/admin/miniconda3/lib/python3.8/site-packages (from dvc->-r requirements.txt (line 1)) (0.9.0)\n",
      "Requirement already satisfied: grandalf==0.6 in /home/admin/miniconda3/lib/python3.8/site-packages (from dvc->-r requirements.txt (line 1)) (0.6)\n",
      "Requirement already satisfied: configobj>=5.0.6 in /home/admin/miniconda3/lib/python3.8/site-packages (from dvc->-r requirements.txt (line 1)) (5.0.6)\n",
      "Requirement already satisfied: pyasn1>=0.4.1 in /home/admin/miniconda3/lib/python3.8/site-packages (from dvc->-r requirements.txt (line 1)) (0.4.8)\n",
      "Requirement already satisfied: rich>=10.0.0 in /home/admin/miniconda3/lib/python3.8/site-packages (from dvc->-r requirements.txt (line 1)) (10.6.0)\n",
      "Requirement already satisfied: networkx>=2.5 in /home/admin/miniconda3/lib/python3.8/site-packages (from dvc->-r requirements.txt (line 1)) (2.6.2)\n",
      "Requirement already satisfied: pathspec<0.9.0,>=0.6.0 in /home/admin/miniconda3/lib/python3.8/site-packages (from dvc->-r requirements.txt (line 1)) (0.8.1)\n",
      "Requirement already satisfied: packaging>=19.0 in /home/admin/miniconda3/lib/python3.8/site-packages (from dvc->-r requirements.txt (line 1)) (21.0)\n",
      "Requirement already satisfied: funcy>=1.14 in /home/admin/miniconda3/lib/python3.8/site-packages (from dvc->-r requirements.txt (line 1)) (1.16)\n",
      "Requirement already satisfied: tqdm<5,>=4.45.0 in /home/admin/.local/lib/python3.8/site-packages (from dvc->-r requirements.txt (line 1)) (4.61.2)\n",
      "Requirement already satisfied: dpath<3,>=2.0.1 in /home/admin/miniconda3/lib/python3.8/site-packages (from dvc->-r requirements.txt (line 1)) (2.0.1)\n",
      "Requirement already satisfied: typing-extensions>=3.7.4 in /home/admin/.local/lib/python3.8/site-packages (from dvc->-r requirements.txt (line 1)) (3.10.0.0)\n",
      "Requirement already satisfied: colorama>=0.3.9 in /home/admin/miniconda3/lib/python3.8/site-packages (from dvc->-r requirements.txt (line 1)) (0.4.4)\n",
      "Requirement already satisfied: diskcache>=5.2.1 in /home/admin/miniconda3/lib/python3.8/site-packages (from dvc->-r requirements.txt (line 1)) (5.2.1)\n",
      "Requirement already satisfied: zc.lockfile>=1.2.1 in /home/admin/miniconda3/lib/python3.8/site-packages (from dvc->-r requirements.txt (line 1)) (2.0)\n",
      "Requirement already satisfied: requests>=2.22.0 in /home/admin/miniconda3/lib/python3.8/site-packages (from dvc->-r requirements.txt (line 1)) (2.25.1)\n",
      "Requirement already satisfied: ply>=3.9 in /home/admin/miniconda3/lib/python3.8/site-packages (from dvc->-r requirements.txt (line 1)) (3.11)\n",
      "Requirement already satisfied: setuptools>=34.0.0 in /home/admin/miniconda3/lib/python3.8/site-packages (from dvc->-r requirements.txt (line 1)) (52.0.0.post20210125)\n",
      "Requirement already satisfied: flatten-dict<1,>=0.4.1 in /home/admin/miniconda3/lib/python3.8/site-packages (from dvc->-r requirements.txt (line 1)) (0.4.1)\n",
      "Requirement already satisfied: pydot>=1.2.4 in /home/admin/miniconda3/lib/python3.8/site-packages (from dvc->-r requirements.txt (line 1)) (1.4.2)\n",
      "Requirement already satisfied: voluptuous>=0.11.7 in /home/admin/miniconda3/lib/python3.8/site-packages (from dvc->-r requirements.txt (line 1)) (0.12.1)\n",
      "Requirement already satisfied: gitpython>3 in /home/admin/miniconda3/lib/python3.8/site-packages (from dvc->-r requirements.txt (line 1)) (3.1.18)\n",
      "Requirement already satisfied: distro>=1.3.0 in /home/admin/miniconda3/lib/python3.8/site-packages (from dvc->-r requirements.txt (line 1)) (1.6.0)\n",
      "Requirement already satisfied: tabulate>=0.8.7 in /home/admin/miniconda3/lib/python3.8/site-packages (from dvc->-r requirements.txt (line 1)) (0.8.9)\n",
      "Requirement already satisfied: pyparsing==2.4.7 in /home/admin/miniconda3/lib/python3.8/site-packages (from dvc->-r requirements.txt (line 1)) (2.4.7)\n",
      "Requirement already satisfied: flufl.lock<4,>=3.2 in /home/admin/miniconda3/lib/python3.8/site-packages (from dvc->-r requirements.txt (line 1)) (3.2)\n",
      "Requirement already satisfied: ruamel.yaml>=0.17.11 in /home/admin/miniconda3/lib/python3.8/site-packages (from dvc->-r requirements.txt (line 1)) (0.17.16)\n",
      "Requirement already satisfied: dulwich>=0.20.23 in /home/admin/miniconda3/lib/python3.8/site-packages (from dvc->-r requirements.txt (line 1)) (0.20.24)\n",
      "Requirement already satisfied: python-benedict>=0.21.1 in /home/admin/miniconda3/lib/python3.8/site-packages (from dvc->-r requirements.txt (line 1)) (0.24.1)\n",
      "Requirement already satisfied: pygit2>=1.5.0 in /home/admin/miniconda3/lib/python3.8/site-packages (from dvc->-r requirements.txt (line 1)) (1.6.1)\n",
      "Requirement already satisfied: nanotime>=0.5.2 in /home/admin/miniconda3/lib/python3.8/site-packages (from dvc->-r requirements.txt (line 1)) (0.5.2)\n",
      "Requirement already satisfied: psutil>=5.8.0 in /home/admin/miniconda3/lib/python3.8/site-packages (from dvc->-r requirements.txt (line 1)) (5.8.0)\n",
      "Requirement already satisfied: shortuuid>=0.5.0 in /home/admin/miniconda3/lib/python3.8/site-packages (from dvc->-r requirements.txt (line 1)) (1.0.1)\n",
      "Requirement already satisfied: appdirs>=1.4.3 in /home/admin/miniconda3/lib/python3.8/site-packages (from dvc->-r requirements.txt (line 1)) (1.4.4)\n",
      "Requirement already satisfied: future in /home/admin/miniconda3/lib/python3.8/site-packages (from grandalf==0.6->dvc->-r requirements.txt (line 1)) (0.18.2)\n",
      "Requirement already satisfied: six in /home/admin/miniconda3/lib/python3.8/site-packages (from configobj>=5.0.6->dvc->-r requirements.txt (line 1)) (1.16.0)\n",
      "Requirement already satisfied: urllib3>=1.24.1 in /home/admin/miniconda3/lib/python3.8/site-packages (from dulwich>=0.20.23->dvc->-r requirements.txt (line 1)) (1.26.6)\n",
      "Requirement already satisfied: certifi in /home/admin/miniconda3/lib/python3.8/site-packages (from dulwich>=0.20.23->dvc->-r requirements.txt (line 1)) (2021.5.30)\n",
      "Requirement already satisfied: atpublic in /home/admin/miniconda3/lib/python3.8/site-packages (from flufl.lock<4,>=3.2->dvc->-r requirements.txt (line 1)) (2.3)\n",
      "Requirement already satisfied: gitdb<5,>=4.0.1 in /home/admin/miniconda3/lib/python3.8/site-packages (from gitpython>3->dvc->-r requirements.txt (line 1)) (4.0.7)\n",
      "Requirement already satisfied: smmap<5,>=3.0.1 in /home/admin/miniconda3/lib/python3.8/site-packages (from gitdb<5,>=4.0.1->gitpython>3->dvc->-r requirements.txt (line 1)) (4.0.0)\n",
      "Requirement already satisfied: cffi>=1.4.0 in /home/admin/miniconda3/lib/python3.8/site-packages (from pygit2>=1.5.0->dvc->-r requirements.txt (line 1)) (1.14.6)\n",
      "Requirement already satisfied: pycparser in /home/admin/miniconda3/lib/python3.8/site-packages (from cffi>=1.4.0->pygit2>=1.5.0->dvc->-r requirements.txt (line 1)) (2.20)\n",
      "Requirement already satisfied: mailchecker in /home/admin/miniconda3/lib/python3.8/site-packages (from python-benedict>=0.21.1->dvc->-r requirements.txt (line 1)) (4.0.11)\n",
      "Requirement already satisfied: xmltodict in /home/admin/miniconda3/lib/python3.8/site-packages (from python-benedict>=0.21.1->dvc->-r requirements.txt (line 1)) (0.12.0)\n",
      "Requirement already satisfied: python-slugify in /home/admin/miniconda3/lib/python3.8/site-packages (from python-benedict>=0.21.1->dvc->-r requirements.txt (line 1)) (5.0.2)\n",
      "Requirement already satisfied: phonenumbers in /home/admin/miniconda3/lib/python3.8/site-packages (from python-benedict>=0.21.1->dvc->-r requirements.txt (line 1)) (8.12.28)\n",
      "Requirement already satisfied: python-dateutil in /home/admin/miniconda3/lib/python3.8/site-packages (from python-benedict>=0.21.1->dvc->-r requirements.txt (line 1)) (2.8.2)\n",
      "Requirement already satisfied: ftfy in /home/admin/miniconda3/lib/python3.8/site-packages (from python-benedict>=0.21.1->dvc->-r requirements.txt (line 1)) (6.0.3)\n",
      "Requirement already satisfied: python-fsutil in /home/admin/miniconda3/lib/python3.8/site-packages (from python-benedict>=0.21.1->dvc->-r requirements.txt (line 1)) (0.5.0)\n",
      "Requirement already satisfied: pyyaml in /home/admin/miniconda3/lib/python3.8/site-packages (from python-benedict>=0.21.1->dvc->-r requirements.txt (line 1)) (5.4.1)\n",
      "Requirement already satisfied: chardet<5,>=3.0.2 in /home/admin/miniconda3/lib/python3.8/site-packages (from requests>=2.22.0->dvc->-r requirements.txt (line 1)) (4.0.0)\n",
      "Requirement already satisfied: idna<3,>=2.5 in /home/admin/miniconda3/lib/python3.8/site-packages (from requests>=2.22.0->dvc->-r requirements.txt (line 1)) (2.10)\n",
      "Requirement already satisfied: pygments<3.0.0,>=2.6.0 in /home/admin/miniconda3/lib/python3.8/site-packages (from rich>=10.0.0->dvc->-r requirements.txt (line 1)) (2.9.0)\n",
      "Requirement already satisfied: commonmark<0.10.0,>=0.9.0 in /home/admin/miniconda3/lib/python3.8/site-packages (from rich>=10.0.0->dvc->-r requirements.txt (line 1)) (0.9.1)\n",
      "Requirement already satisfied: ruamel.yaml.clib>=0.1.2 in /home/admin/miniconda3/lib/python3.8/site-packages (from ruamel.yaml>=0.17.11->dvc->-r requirements.txt (line 1)) (0.2.6)\n",
      "Requirement already satisfied: numpy>=1.13.3 in /home/admin/.local/lib/python3.8/site-packages (from scikit-learn->-r requirements.txt (line 3)) (1.19.3)\n",
      "Collecting scipy>=0.19.1\n",
      "  Downloading scipy-1.7.1-cp38-cp38-manylinux_2_5_x86_64.manylinux1_x86_64.whl (28.4 MB)\n",
      "\u001b[K     |████████████████████████████████| 28.4 MB 852 kB/s eta 0:00:01\n",
      "\u001b[?25hCollecting threadpoolctl>=2.0.0\n",
      "  Using cached threadpoolctl-2.2.0-py3-none-any.whl (12 kB)\n",
      "Requirement already satisfied: ipywidgets in /home/admin/miniconda3/lib/python3.8/site-packages (from jupyter->-r requirements.txt (line 5)) (7.6.3)\n",
      "Requirement already satisfied: notebook in /home/admin/miniconda3/lib/python3.8/site-packages (from jupyter->-r requirements.txt (line 5)) (6.4.0)\n",
      "Requirement already satisfied: nbconvert in /home/admin/miniconda3/lib/python3.8/site-packages (from jupyter->-r requirements.txt (line 5)) (6.1.0)\n",
      "Collecting jupyter-console\n",
      "  Downloading jupyter_console-6.4.0-py3-none-any.whl (22 kB)\n",
      "Collecting qtconsole\n",
      "  Downloading qtconsole-5.1.1-py3-none-any.whl (119 kB)\n",
      "\u001b[K     |████████████████████████████████| 119 kB 17.5 MB/s eta 0:00:01\n",
      "\u001b[?25hRequirement already satisfied: tornado in /home/admin/miniconda3/lib/python3.8/site-packages (from jupyter_contrib_nbextensions->-r requirements.txt (line 6)) (6.1)\n",
      "Collecting jupyter-latex-envs>=1.3.8\n",
      "  Downloading jupyter_latex_envs-1.4.6.tar.gz (861 kB)\n",
      "\u001b[K     |████████████████████████████████| 861 kB 5.9 MB/s eta 0:00:01\n",
      "\u001b[?25hRequirement already satisfied: jupyter-core in /home/admin/miniconda3/lib/python3.8/site-packages (from jupyter_contrib_nbextensions->-r requirements.txt (line 6)) (4.7.1)\n",
      "Requirement already satisfied: ipython-genutils in /home/admin/miniconda3/lib/python3.8/site-packages (from jupyter_contrib_nbextensions->-r requirements.txt (line 6)) (0.2.0)\n",
      "Requirement already satisfied: traitlets>=4.1 in /home/admin/miniconda3/lib/python3.8/site-packages (from jupyter_contrib_nbextensions->-r requirements.txt (line 6)) (5.0.5)\n",
      "Collecting lxml\n",
      "  Downloading lxml-4.6.3-cp38-cp38-manylinux2014_x86_64.whl (6.8 MB)\n",
      "\u001b[K     |████████████████████████████████| 6.8 MB 322 kB/s eta 0:00:01\n",
      "\u001b[?25hCollecting jupyter-nbextensions-configurator>=0.4.0\n",
      "  Downloading jupyter_nbextensions_configurator-0.4.1.tar.gz (479 kB)\n",
      "\u001b[K     |████████████████████████████████| 479 kB 2.1 MB/s eta 0:00:01\n",
      "\u001b[?25hCollecting jupyter-contrib-core>=0.3.3\n",
      "  Downloading jupyter_contrib_core-0.3.3-py2.py3-none-any.whl (18 kB)\n",
      "Collecting jupyter-highlight-selected-word>=0.1.1\n",
      "  Downloading jupyter_highlight_selected_word-0.2.0-py2.py3-none-any.whl (11 kB)\n",
      "Requirement already satisfied: ipython in /home/admin/miniconda3/lib/python3.8/site-packages (from jupyter-latex-envs>=1.3.8->jupyter_contrib_nbextensions->-r requirements.txt (line 6)) (7.25.0)\n",
      "Requirement already satisfied: nbclient<0.6.0,>=0.5.0 in /home/admin/miniconda3/lib/python3.8/site-packages (from nbconvert->jupyter->-r requirements.txt (line 5)) (0.5.3)\n",
      "Requirement already satisfied: testpath in /home/admin/miniconda3/lib/python3.8/site-packages (from nbconvert->jupyter->-r requirements.txt (line 5)) (0.5.0)\n",
      "Requirement already satisfied: mistune<2,>=0.8.1 in /home/admin/miniconda3/lib/python3.8/site-packages (from nbconvert->jupyter->-r requirements.txt (line 5)) (0.8.4)\n",
      "Requirement already satisfied: entrypoints>=0.2.2 in /home/admin/miniconda3/lib/python3.8/site-packages (from nbconvert->jupyter->-r requirements.txt (line 5)) (0.3)\n",
      "Requirement already satisfied: pandocfilters>=1.4.1 in /home/admin/miniconda3/lib/python3.8/site-packages (from nbconvert->jupyter->-r requirements.txt (line 5)) (1.4.2)\n",
      "Requirement already satisfied: jupyterlab-pygments in /home/admin/miniconda3/lib/python3.8/site-packages (from nbconvert->jupyter->-r requirements.txt (line 5)) (0.1.2)\n",
      "Requirement already satisfied: defusedxml in /home/admin/.local/lib/python3.8/site-packages (from nbconvert->jupyter->-r requirements.txt (line 5)) (0.7.1)\n",
      "Requirement already satisfied: jinja2>=2.4 in /home/admin/miniconda3/lib/python3.8/site-packages (from nbconvert->jupyter->-r requirements.txt (line 5)) (3.0.1)\n",
      "Requirement already satisfied: bleach in /home/admin/miniconda3/lib/python3.8/site-packages (from nbconvert->jupyter->-r requirements.txt (line 5)) (3.3.1)\n",
      "Requirement already satisfied: nbformat>=4.4 in /home/admin/miniconda3/lib/python3.8/site-packages (from nbconvert->jupyter->-r requirements.txt (line 5)) (5.1.3)\n",
      "Requirement already satisfied: MarkupSafe>=2.0 in /home/admin/miniconda3/lib/python3.8/site-packages (from jinja2>=2.4->nbconvert->jupyter->-r requirements.txt (line 5)) (2.0.1)\n",
      "Requirement already satisfied: nest-asyncio in /home/admin/miniconda3/lib/python3.8/site-packages (from nbclient<0.6.0,>=0.5.0->nbconvert->jupyter->-r requirements.txt (line 5)) (1.5.1)\n",
      "Requirement already satisfied: jupyter-client>=6.1.5 in /home/admin/miniconda3/lib/python3.8/site-packages (from nbclient<0.6.0,>=0.5.0->nbconvert->jupyter->-r requirements.txt (line 5)) (6.1.12)\n",
      "Requirement already satisfied: async-generator in /home/admin/miniconda3/lib/python3.8/site-packages (from nbclient<0.6.0,>=0.5.0->nbconvert->jupyter->-r requirements.txt (line 5)) (1.10)\n",
      "Requirement already satisfied: pyzmq>=13 in /home/admin/miniconda3/lib/python3.8/site-packages (from jupyter-client>=6.1.5->nbclient<0.6.0,>=0.5.0->nbconvert->jupyter->-r requirements.txt (line 5)) (22.1.0)\n",
      "Requirement already satisfied: jsonschema!=2.5.0,>=2.4 in /home/admin/miniconda3/lib/python3.8/site-packages (from nbformat>=4.4->nbconvert->jupyter->-r requirements.txt (line 5)) (3.2.0)\n",
      "Requirement already satisfied: pyrsistent>=0.14.0 in /home/admin/miniconda3/lib/python3.8/site-packages (from jsonschema!=2.5.0,>=2.4->nbformat>=4.4->nbconvert->jupyter->-r requirements.txt (line 5)) (0.17.3)\n",
      "Requirement already satisfied: attrs>=17.4.0 in /home/admin/miniconda3/lib/python3.8/site-packages (from jsonschema!=2.5.0,>=2.4->nbformat>=4.4->nbconvert->jupyter->-r requirements.txt (line 5)) (21.2.0)\n",
      "Requirement already satisfied: argon2-cffi in /home/admin/miniconda3/lib/python3.8/site-packages (from notebook->jupyter->-r requirements.txt (line 5)) (20.1.0)\n",
      "Requirement already satisfied: terminado>=0.8.3 in /home/admin/miniconda3/lib/python3.8/site-packages (from notebook->jupyter->-r requirements.txt (line 5)) (0.10.1)\n",
      "Requirement already satisfied: prometheus-client in /home/admin/miniconda3/lib/python3.8/site-packages (from notebook->jupyter->-r requirements.txt (line 5)) (0.11.0)\n",
      "Requirement already satisfied: Send2Trash>=1.5.0 in /home/admin/miniconda3/lib/python3.8/site-packages (from notebook->jupyter->-r requirements.txt (line 5)) (1.7.1)\n",
      "Requirement already satisfied: ptyprocess in /home/admin/miniconda3/lib/python3.8/site-packages (from terminado>=0.8.3->notebook->jupyter->-r requirements.txt (line 5)) (0.7.0)\n",
      "Requirement already satisfied: debugpy<2.0,>=1.0.0 in /home/admin/miniconda3/lib/python3.8/site-packages (from ipykernel->-r requirements.txt (line 7)) (1.4.1)\n",
      "Requirement already satisfied: matplotlib-inline<0.2.0,>=0.1.0 in /home/admin/miniconda3/lib/python3.8/site-packages (from ipykernel->-r requirements.txt (line 7)) (0.1.2)\n",
      "Requirement already satisfied: pexpect>4.3 in /home/admin/miniconda3/lib/python3.8/site-packages (from ipython->jupyter-latex-envs>=1.3.8->jupyter_contrib_nbextensions->-r requirements.txt (line 6)) (4.8.0)\n",
      "Requirement already satisfied: jedi>=0.16 in /home/admin/miniconda3/lib/python3.8/site-packages (from ipython->jupyter-latex-envs>=1.3.8->jupyter_contrib_nbextensions->-r requirements.txt (line 6)) (0.18.0)\n",
      "Requirement already satisfied: decorator in /home/admin/miniconda3/lib/python3.8/site-packages (from ipython->jupyter-latex-envs>=1.3.8->jupyter_contrib_nbextensions->-r requirements.txt (line 6)) (5.0.9)\n",
      "Requirement already satisfied: backcall in /home/admin/miniconda3/lib/python3.8/site-packages (from ipython->jupyter-latex-envs>=1.3.8->jupyter_contrib_nbextensions->-r requirements.txt (line 6)) (0.2.0)\n",
      "Requirement already satisfied: pickleshare in /home/admin/miniconda3/lib/python3.8/site-packages (from ipython->jupyter-latex-envs>=1.3.8->jupyter_contrib_nbextensions->-r requirements.txt (line 6)) (0.7.5)\n",
      "Requirement already satisfied: prompt-toolkit!=3.0.0,!=3.0.1,<3.1.0,>=2.0.0 in /home/admin/miniconda3/lib/python3.8/site-packages (from ipython->jupyter-latex-envs>=1.3.8->jupyter_contrib_nbextensions->-r requirements.txt (line 6)) (3.0.19)\n",
      "Requirement already satisfied: parso<0.9.0,>=0.8.0 in /home/admin/miniconda3/lib/python3.8/site-packages (from jedi>=0.16->ipython->jupyter-latex-envs>=1.3.8->jupyter_contrib_nbextensions->-r requirements.txt (line 6)) (0.8.2)\n",
      "Requirement already satisfied: wcwidth in /home/admin/miniconda3/lib/python3.8/site-packages (from prompt-toolkit!=3.0.0,!=3.0.1,<3.1.0,>=2.0.0->ipython->jupyter-latex-envs>=1.3.8->jupyter_contrib_nbextensions->-r requirements.txt (line 6)) (0.2.5)\n",
      "Requirement already satisfied: webencodings in /home/admin/miniconda3/lib/python3.8/site-packages (from bleach->nbconvert->jupyter->-r requirements.txt (line 5)) (0.5.1)\n",
      "Requirement already satisfied: widgetsnbextension~=3.5.0 in /home/admin/miniconda3/lib/python3.8/site-packages (from ipywidgets->jupyter->-r requirements.txt (line 5)) (3.5.1)\n",
      "Requirement already satisfied: jupyterlab-widgets>=1.0.0 in /home/admin/miniconda3/lib/python3.8/site-packages (from ipywidgets->jupyter->-r requirements.txt (line 5)) (1.0.0)\n",
      "Requirement already satisfied: text-unidecode>=1.3 in /home/admin/miniconda3/lib/python3.8/site-packages (from python-slugify->python-benedict>=0.21.1->dvc->-r requirements.txt (line 1)) (1.3)\n",
      "Collecting qtpy\n",
      "  Downloading QtPy-1.11.0-py2.py3-none-any.whl (58 kB)\n",
      "\u001b[K     |████████████████████████████████| 58 kB 1.6 MB/s eta 0:00:01\n",
      "\u001b[?25hBuilding wheels for collected packages: panda, jupyter-latex-envs, jupyter-nbextensions-configurator\n",
      "  Building wheel for panda (setup.py) ... \u001b[?25ldone\n",
      "\u001b[?25h  Created wheel for panda: filename=panda-0.3.1-py3-none-any.whl size=7256 sha256=aa01473238fce94a4c8a26ed10d704989a29dac4473e6717c7cb6d5b903fc68b\n",
      "  Stored in directory: /home/admin/.cache/pip/wheels/e9/b8/cc/e2f18ad77320b551f1b7435014844a9cc3e9d6185cb93a3a31\n",
      "  Building wheel for jupyter-latex-envs (setup.py) ... \u001b[?25ldone\n",
      "\u001b[?25h  Created wheel for jupyter-latex-envs: filename=jupyter_latex_envs-1.4.6-py2.py3-none-any.whl size=963394 sha256=677bd1c39d7a833e3cc560a5c904d07d8e7daeca87db6e3ed5a25d388839f067\n",
      "  Stored in directory: /home/admin/.cache/pip/wheels/4d/ba/f4/b8c0941055519ebc0f27e85bfe2bb223f1a59a3b8bfc5c7515\n",
      "  Building wheel for jupyter-nbextensions-configurator (setup.py) ... \u001b[?25ldone\n",
      "\u001b[?25h  Created wheel for jupyter-nbextensions-configurator: filename=jupyter_nbextensions_configurator-0.4.1-py2.py3-none-any.whl size=465825 sha256=d891fee99c69bc8ed2fd7fb77f0505f695d1329fb3c1a56207a865801fccc9df\n",
      "  Stored in directory: /home/admin/.cache/pip/wheels/e3/3a/b3/a709b437602c3807f079f0c35ccba3e1adf9af6f2e6b0ebfea\n",
      "Successfully built panda jupyter-latex-envs jupyter-nbextensions-configurator\n",
      "Installing collected packages: qtpy, jupyter-contrib-core, threadpoolctl, scipy, qtconsole, lxml, jupyter-nbextensions-configurator, jupyter-latex-envs, jupyter-highlight-selected-word, jupyter-console, scikit-learn, panda, jupyter-contrib-nbextensions, jupyter\n",
      "Successfully installed jupyter-1.0.0 jupyter-console-6.4.0 jupyter-contrib-core-0.3.3 jupyter-contrib-nbextensions-0.5.1 jupyter-highlight-selected-word-0.2.0 jupyter-latex-envs-1.4.6 jupyter-nbextensions-configurator-0.4.1 lxml-4.6.3 panda-0.3.1 qtconsole-5.1.1 qtpy-1.11.0 scikit-learn-0.24.2 scipy-1.7.1 threadpoolctl-2.2.0\n"
     ]
    }
   ],
   "source": [
    "!pip install -r requirements.txt # установим все необходимые библиотеки"
   ]
  },
  {
   "cell_type": "markdown",
   "id": "a9446714",
   "metadata": {},
   "source": [
    "Теперь, как мы делаем \n",
    "```bash\n",
    "git init\n",
    "```\n",
    "так же проинициализируем dvc"
   ]
  },
  {
   "cell_type": "code",
   "execution_count": 3,
   "id": "b54e9de4",
   "metadata": {},
   "outputs": [
    {
     "name": "stdout",
     "output_type": "stream",
     "text": [
      "\u001b[31mERROR\u001b[39m: failed to initiate DVC - '.dvc' exists. Use `-f` to force.\n",
      "\u001b[0m"
     ]
    }
   ],
   "source": [
    "!dvc init --subdir"
   ]
  },
  {
   "cell_type": "markdown",
   "id": "0a1e9748",
   "metadata": {},
   "source": [
    "Мы указали параметр --subdir т.к. не находимся в корне репозитория. Если вы создаете свой проект, выполняете команды не в jupyter notebook - можете обойтись без этого параметра.\n",
    "Подробнее: https://dvc.org/doc/command-reference/init"
   ]
  },
  {
   "cell_type": "markdown",
   "id": "d5db82fd",
   "metadata": {},
   "source": [
    "Посмотрим, какие файлы создал DVC"
   ]
  },
  {
   "cell_type": "code",
   "execution_count": 6,
   "id": "297fa084",
   "metadata": {},
   "outputs": [
    {
     "name": "stdout",
     "output_type": "stream",
     "text": [
      ".  ..  config  .gitignore  plots  tmp\n"
     ]
    }
   ],
   "source": [
    "!ls -a .dvc"
   ]
  },
  {
   "cell_type": "code",
   "execution_count": 7,
   "id": "a0da873a",
   "metadata": {},
   "outputs": [
    {
     "name": "stdout",
     "output_type": "stream",
     "text": [
      "/config.local\n",
      "/tmp\n",
      "/cache\n"
     ]
    }
   ],
   "source": [
    "!cat .dvc/.gitignore"
   ]
  },
  {
   "cell_type": "code",
   "execution_count": 8,
   "id": "170b3135",
   "metadata": {},
   "outputs": [
    {
     "name": "stdout",
     "output_type": "stream",
     "text": [
      "# Add patterns of files dvc should ignore, which could improve\n",
      "# the performance. Learn more at\n",
      "# https://dvc.org/doc/user-guide/dvcignore\n"
     ]
    }
   ],
   "source": [
    "# Этот файл пока пустой. Работает аналогично .gitignore\n",
    "!cat .dvcignore "
   ]
  },
  {
   "cell_type": "markdown",
   "id": "3c2a4472",
   "metadata": {},
   "source": [
    "Теперь нам нужно добавить в Гит файлы, которые только что создал DVC последней командой."
   ]
  },
  {
   "cell_type": "code",
   "execution_count": null,
   "id": "dec873ca",
   "metadata": {},
   "outputs": [],
   "source": [
    "!git add .\n",
    "!git commit -m \"Initialized DVC\""
   ]
  },
  {
   "cell_type": "code",
   "execution_count": 17,
   "id": "cb1a705d",
   "metadata": {},
   "outputs": [],
   "source": [
    "!mkdir data # создадим папку где будут храниться данные"
   ]
  },
  {
   "cell_type": "markdown",
   "id": "1d969f6f",
   "metadata": {},
   "source": [
    "Посмотрим на наши данные. Для примера будем использовать классический набор: \"Ирисы Фишера\". Датасет представляет характеристики цветков.  "
   ]
  },
  {
   "cell_type": "code",
   "execution_count": 19,
   "id": "4665183a",
   "metadata": {},
   "outputs": [],
   "source": [
    "import pandas as pd\n",
    "from sklearn.datasets import load_iris\n",
    "\n",
    "data = load_iris(as_frame=True)\n",
    "data.frame.to_csv('data/iris.csv', index=False)"
   ]
  },
  {
   "cell_type": "markdown",
   "id": "6dcfcbd6",
   "metadata": {},
   "source": [
    "**Посмотрим на наши данные:**\n",
    "* Длина чашелистика\n",
    "* Ширина чашелистика \n",
    "* Длина лепестка\n",
    "* Ширина лепестка\n",
    "* Вид ириса"
   ]
  },
  {
   "cell_type": "code",
   "execution_count": 20,
   "id": "3e611509",
   "metadata": {},
   "outputs": [
    {
     "data": {
      "text/html": [
       "<div>\n",
       "<style scoped>\n",
       "    .dataframe tbody tr th:only-of-type {\n",
       "        vertical-align: middle;\n",
       "    }\n",
       "\n",
       "    .dataframe tbody tr th {\n",
       "        vertical-align: top;\n",
       "    }\n",
       "\n",
       "    .dataframe thead th {\n",
       "        text-align: right;\n",
       "    }\n",
       "</style>\n",
       "<table border=\"1\" class=\"dataframe\">\n",
       "  <thead>\n",
       "    <tr style=\"text-align: right;\">\n",
       "      <th></th>\n",
       "      <th>sepal length (cm)</th>\n",
       "      <th>sepal width (cm)</th>\n",
       "      <th>petal length (cm)</th>\n",
       "      <th>petal width (cm)</th>\n",
       "      <th>target</th>\n",
       "    </tr>\n",
       "  </thead>\n",
       "  <tbody>\n",
       "    <tr>\n",
       "      <th>0</th>\n",
       "      <td>5.1</td>\n",
       "      <td>3.5</td>\n",
       "      <td>1.4</td>\n",
       "      <td>0.2</td>\n",
       "      <td>0</td>\n",
       "    </tr>\n",
       "    <tr>\n",
       "      <th>1</th>\n",
       "      <td>4.9</td>\n",
       "      <td>3.0</td>\n",
       "      <td>1.4</td>\n",
       "      <td>0.2</td>\n",
       "      <td>0</td>\n",
       "    </tr>\n",
       "    <tr>\n",
       "      <th>2</th>\n",
       "      <td>4.7</td>\n",
       "      <td>3.2</td>\n",
       "      <td>1.3</td>\n",
       "      <td>0.2</td>\n",
       "      <td>0</td>\n",
       "    </tr>\n",
       "    <tr>\n",
       "      <th>3</th>\n",
       "      <td>4.6</td>\n",
       "      <td>3.1</td>\n",
       "      <td>1.5</td>\n",
       "      <td>0.2</td>\n",
       "      <td>0</td>\n",
       "    </tr>\n",
       "    <tr>\n",
       "      <th>4</th>\n",
       "      <td>5.0</td>\n",
       "      <td>3.6</td>\n",
       "      <td>1.4</td>\n",
       "      <td>0.2</td>\n",
       "      <td>0</td>\n",
       "    </tr>\n",
       "  </tbody>\n",
       "</table>\n",
       "</div>"
      ],
      "text/plain": [
       "   sepal length (cm)  sepal width (cm)  petal length (cm)  petal width (cm)  \\\n",
       "0                5.1               3.5                1.4               0.2   \n",
       "1                4.9               3.0                1.4               0.2   \n",
       "2                4.7               3.2                1.3               0.2   \n",
       "3                4.6               3.1                1.5               0.2   \n",
       "4                5.0               3.6                1.4               0.2   \n",
       "\n",
       "   target  \n",
       "0       0  \n",
       "1       0  \n",
       "2       0  \n",
       "3       0  \n",
       "4       0  "
      ]
     },
     "execution_count": 20,
     "metadata": {},
     "output_type": "execute_result"
    }
   ],
   "source": [
    "data.frame.head() # Первые пять строк"
   ]
  },
  {
   "cell_type": "code",
   "execution_count": 25,
   "id": "4e70b40f",
   "metadata": {},
   "outputs": [
    {
     "name": "stdout",
     "output_type": "stream",
     "text": [
      "\u001b[31mERROR\u001b[39m: bad DVC file name 'data/iris.csv.dvc' is git-ignored.          \n",
      "\u001b[0m"
     ]
    }
   ],
   "source": [
    "!dvc add data/* # добавим файлы в DVС для отслеживания изменений\n",
    "!git add data.dvc \n",
    "# Папка будет игнорироваться гитом, но нам нужно следить за изменениями\n",
    "# файла data.dvc Добавим его в гит."
   ]
  }
 ],
 "metadata": {
  "kernelspec": {
   "display_name": "Python 3 (ipykernel)",
   "language": "python",
   "name": "python3"
  },
  "language_info": {
   "codemirror_mode": {
    "name": "ipython",
    "version": 3
   },
   "file_extension": ".py",
   "mimetype": "text/x-python",
   "name": "python",
   "nbconvert_exporter": "python",
   "pygments_lexer": "ipython3",
   "version": "3.8.10"
  }
 },
 "nbformat": 4,
 "nbformat_minor": 5
}
